{
 "cells": [
  {
   "cell_type": "markdown",
   "id": "9f536e99-3833-40b9-80a1-4c0e92549dbf",
   "metadata": {},
   "source": [
    "#### Numpy\n",
    "NumPy (Numerical Python) is a fundamental library for scientific computing in Python. It provides support for large, multi-dimensional arrays and matrices, along with a collection of mathematical functions to operate on these arrays.\n",
    "\n",
    "**Key Features:**\n",
    "\n",
    "**N-dimensional Array (ndarray):**\n",
    "The core feature of NumPy is the ndarray object, which is a fast, flexible container for large datasets in Python. It allows you to perform operations on large datasets quickly and efficiently.\n",
    "\n",
    "**Mathematical Functions:**\n",
    "NumPy offers a wide range of mathematical functions to perform operations such as statistical calculations, linear algebra, Fourier transforms, and more.\n",
    "\n",
    "**Broadcasting:**\n",
    "NumPy supports broadcasting, which allows you to perform arithmetic operations on arrays of different shapes without needing to manually reshape them.\n",
    "Integration with C/C++ and Fortran:\n",
    "\n",
    "You can integrate NumPy with code written in C, C++, or Fortran to improve performance or reuse existing numerical code.\n",
    "\n",
    "**Array Indexing:**\n",
    "NumPy provides powerful tools for slicing, indexing, and iterating over arrays, which makes data manipulation and analysis straightforward and efficient.\n",
    "\n",
    "**What is the difference between a NumPy array and a Python list?**\n",
    "\n",
    "Solution:\n",
    "\n",
    "Speed: NumPy arrays are faster and more efficient than Python lists.\n",
    "\n",
    "Functionality: NumPy arrays support a wide range of mathematical operations, which are not available with Python lists.\n",
    "\n",
    "Memory: NumPy arrays consume less memory compared to Python lists.\n",
    "\n",
    "Homogeneity: NumPy arrays are homogeneous, meaning all elements are of the same data type, whereas Python lists can contain elements of different data types.\n"
   ]
  },
  {
   "cell_type": "code",
   "execution_count": 3,
   "id": "fd9cdf29-fdb0-4cc4-8d25-bc8247dab90e",
   "metadata": {},
   "outputs": [],
   "source": [
    "import numpy as np\n",
    "import pandas as  pd"
   ]
  },
  {
   "cell_type": "code",
   "execution_count": 35,
   "id": "c192632a-4cfe-4da2-be9e-bf0a01d526de",
   "metadata": {},
   "outputs": [
    {
     "name": "stdout",
     "output_type": "stream",
     "text": [
      "[1 2 3 4 5]\n",
      "[1 2 3 4 5]\n",
      "[0 2 4 6 8]\n",
      "[[0. 0. 0.]\n",
      " [0. 0. 0.]\n",
      " [0. 0. 0.]]\n",
      "[[1. 1. 1. 1.]\n",
      " [1. 1. 1. 1.]]\n"
     ]
    }
   ],
   "source": [
    "# From a list\n",
    "array_from_list = np.array([1, 2, 3, 4, 5])\n",
    "print(array_from_list)\n",
    "\n",
    "# From a tuple\n",
    "array_from_tuple = np.array((1, 2, 3, 4, 5))\n",
    "print(array_from_tuple)\n",
    "\n",
    "# Using arange\n",
    "array_with_arange = np.arange(0, 10, 2)\n",
    "print(array_with_arange)\n",
    "\n",
    "# Using zeros\n",
    "array_of_zeros = np.zeros((3, 3))\n",
    "print(array_of_zeros)\n",
    "\n",
    "# Using ones\n",
    "array_of_ones = np.ones((2, 4))\n",
    "print(array_of_ones)\n"
   ]
  },
  {
   "cell_type": "code",
   "execution_count": 27,
   "id": "27c6bb6f-9ec4-4e37-9134-9fd48d8bf61c",
   "metadata": {},
   "outputs": [
    {
     "name": "stdout",
     "output_type": "stream",
     "text": [
      "[[6 7]\n",
      " [8 9]]\n",
      "[0 1]\n"
     ]
    }
   ],
   "source": [
    "arr1=np.arange(0,2)\n",
    "arr2=np.arange(6,10).reshape(2,-1)\n",
    "arr3=np.array([[0,1],[1,0]])\n",
    "print(arr2)\n",
    "print(arr1)"
   ]
  },
  {
   "cell_type": "code",
   "execution_count": 28,
   "id": "849eadb2-404c-4e66-82b2-e8f8aeb19ba9",
   "metadata": {},
   "outputs": [
    {
     "data": {
      "text/plain": [
       "array([[ 6,  8],\n",
       "       [ 8, 10]])"
      ]
     },
     "execution_count": 28,
     "metadata": {},
     "output_type": "execute_result"
    }
   ],
   "source": [
    "#Q: Add arr1 and arr2\n",
    "arr1+arr2\n"
   ]
  },
  {
   "cell_type": "markdown",
   "id": "d854cea5-aa77-48d2-ae33-fd593dcd0afe",
   "metadata": {},
   "source": [
    "When operating on two arrays, NumPy compares their shapes element-wise. It starts with the trailing (i.e. rightmost) dimension and works its way left. Two dimensions are compatible when\n",
    "\n",
    "they are equal, or\n",
    "one of them is 1.\n",
    "\n",
    "If these conditions are not met, a ValueError: operands could not be broadcast together exception is thrown, indicating that the arrays have incompatible shapes."
   ]
  },
  {
   "cell_type": "code",
   "execution_count": 32,
   "id": "0f7c0041-7180-4593-a97c-4a9aaae0f904",
   "metadata": {},
   "outputs": [
    {
     "data": {
      "text/plain": [
       "array([[6, 7, 0, 1],\n",
       "       [8, 9, 1, 0]])"
      ]
     },
     "execution_count": 32,
     "metadata": {},
     "output_type": "execute_result"
    }
   ],
   "source": [
    "#Q2: How can you concatinate  arr2 and arr3 (horizontally&vertically)?\n",
    "np.concatenate((arr2,arr3),axis=1)\n",
    "# np.concatenate((arr2,arr3),axis=0)"
   ]
  },
  {
   "cell_type": "code",
   "execution_count": 34,
   "id": "5759e5b3-b9d5-4c41-b3c8-c971a6b1e727",
   "metadata": {},
   "outputs": [
    {
     "data": {
      "text/plain": [
       "array([2, 3], dtype=int64)"
      ]
     },
     "execution_count": 34,
     "metadata": {},
     "output_type": "execute_result"
    }
   ],
   "source": [
    "#Q3.Find the index of the top 2 elements of [4,1,5,7,0]\n",
    "np.argsort([4,1,5,7,0])[-2:]"
   ]
  },
  {
   "cell_type": "code",
   "execution_count": 37,
   "id": "d645f84d-55d8-454f-8216-76d08658152f",
   "metadata": {},
   "outputs": [
    {
     "name": "stdout",
     "output_type": "stream",
     "text": [
      "[[1 2 3]\n",
      " [4 5 6]\n",
      " [7 8 9]]\n",
      "[[1 2 3 4 5 6 7 8 9]]\n"
     ]
    }
   ],
   "source": [
    "#Q.How do you reshape a NumPy array?\n",
    "import numpy as np\n",
    "\n",
    "a = np.array([[1, 2, 3], [4, 5, 6], [7, 8, 9]])\n",
    "print(a)\n",
    "\n",
    "# Reshape 3x3 to 1x9\n",
    "reshaped_array = a.reshape(1, 9)\n",
    "print(reshaped_array)\n",
    "\n"
   ]
  },
  {
   "cell_type": "code",
   "execution_count": 38,
   "id": "43534cd6-bc24-458d-9914-dbd44d6d4e47",
   "metadata": {},
   "outputs": [
    {
     "name": "stdout",
     "output_type": "stream",
     "text": [
      "5\n",
      "1\n"
     ]
    }
   ],
   "source": [
    "#Q.How do you find the maximum and minimum values in a NumPy array?\n",
    "\n",
    "a = np.array([1, 2, 3, 4, 5])\n",
    "\n",
    "# Maximum value\n",
    "max_value = a.max()\n",
    "print(max_value)  # Output: 5\n",
    "\n",
    "# Minimum value\n",
    "min_value = a.min()\n",
    "print(min_value)  # Output: 1\n"
   ]
  },
  {
   "cell_type": "code",
   "execution_count": 39,
   "id": "af3405fe-12bd-4e11-8d4c-a694771ab3c3",
   "metadata": {},
   "outputs": [
    {
     "name": "stdout",
     "output_type": "stream",
     "text": [
      "[[19 22]\n",
      " [43 50]]\n",
      "[[1 3]\n",
      " [2 4]]\n",
      "[[-2.   1. ]\n",
      " [ 1.5 -0.5]]\n",
      "[-0.37228132  5.37228132]\n",
      "[[-0.82456484 -0.41597356]\n",
      " [ 0.56576746 -0.90937671]]\n"
     ]
    }
   ],
   "source": [
    "#Q.How do you use NumPy for linear algebra operations?\n",
    "import numpy as np\n",
    "\n",
    "a = np.array([[1, 2], [3, 4]])\n",
    "b = np.array([[5, 6], [7, 8]])\n",
    "\n",
    "# Matrix multiplication\n",
    "result = np.dot(a, b)\n",
    "print(result)\n",
    "# Output:\n",
    "# [[19 22]\n",
    "#  [43 50]]\n",
    "\n",
    "# Transpose of a matrix\n",
    "transpose = np.transpose(a)\n",
    "print(transpose)\n",
    "# Output:\n",
    "# [[1 3]\n",
    "#  [2 4]]\n",
    "\n",
    "# Inverse of a matrix\n",
    "inverse = np.linalg.inv(a)\n",
    "print(inverse)\n",
    "# Output:\n",
    "# [[-2.   1. ]\n",
    "#  [ 1.5 -0.5]]\n",
    "\n",
    "# Eigenvalues and eigenvectors\n",
    "eigenvalues, eigenvectors = np.linalg.eig(a)\n",
    "print(eigenvalues)\n",
    "# Output: [ 5.37228132 -0.37228132]\n",
    "print(eigenvectors)\n",
    "# Output:\n",
    "# [[-0.82456484 -0.41597356]\n",
    "#  [-0.56576746  0.90937671]]\n"
   ]
  },
  {
   "cell_type": "code",
   "execution_count": 40,
   "id": "3578c889-2ec3-42ff-9775-1c663828a90c",
   "metadata": {},
   "outputs": [
    {
     "name": "stdout",
     "output_type": "stream",
     "text": [
      "[False False  True False False  True]\n",
      "[1. 2. 0. 4. 5. 0.]\n"
     ]
    }
   ],
   "source": [
    "#Q.How do you handle missing data in a NumPy array?\n",
    "import numpy as np\n",
    "\n",
    "# Create an array with NaN values\n",
    "a = np.array([1, 2, np.nan, 4, 5, np.nan])\n",
    "\n",
    "# Find the indices of NaN values\n",
    "nan_indices = np.isnan(a)\n",
    "print(nan_indices)  # Output: [False False  True False False  True]\n",
    "\n",
    "# Replace NaN values with a specific value, e.g., 0\n",
    "a[nan_indices] = 0\n",
    "print(a)  # Output: [1. 2. 0. 4. 5. 0.]\n"
   ]
  },
  {
   "cell_type": "markdown",
   "id": "cb468ba0-a8c9-4dc8-bdd5-9dd3bcefb328",
   "metadata": {},
   "source": [
    "#### Pandas\n",
    "\n",
    "What is pandas?\n",
    "\n",
    "Pandas is an open-source Python library used for data manipulation and analysis.\n",
    "It provides data structures like DataFrames and Series, which are powerful tools for handling and analyzing data.\n",
    "\n",
    "\n",
    "\n",
    "**What are the primary data structures in pandas?**\n",
    "\n",
    "The primary data structures in pandas are:\n",
    "\n",
    "Series: A one-dimensional labeled array capable of holding any data type.\n",
    "\n",
    "DataFrame: A two-dimensional labeled data structure with columns of potentially different data types"
   ]
  },
  {
   "cell_type": "code",
   "execution_count": 42,
   "id": "585bcccb-1fdf-43f6-9f62-05fc8f848f38",
   "metadata": {},
   "outputs": [],
   "source": [
    "#How do you create a DataFrame from a dictionary?\n",
    "\n",
    "data = {'column1': [1, 2, 3], 'column2': [4, 5, 6]}\n",
    "df = pd.DataFrame(data)"
   ]
  },
  {
   "cell_type": "code",
   "execution_count": 45,
   "id": "76ae3af4-4e9b-4eaa-b468-3face2eed253",
   "metadata": {},
   "outputs": [],
   "source": [
    "#How can you read a CSV file into a pandas DataFrame?\n",
    "#df = pd.read_csv('file_path.csv')\n"
   ]
  },
  {
   "cell_type": "code",
   "execution_count": 47,
   "id": "f313fdce-d985-47b8-b9f7-0451c7d3682c",
   "metadata": {},
   "outputs": [],
   "source": [
    "#How do you select a specific column from a DataFrame?\n",
    "\n",
    "#column_data = df['column_name']\n",
    "\n",
    "#How do you filter rows in a DataFrame based on a condition?\n",
    "\n",
    "#filtered_df = df[df['column_name'] > value]"
   ]
  },
  {
   "cell_type": "code",
   "execution_count": 48,
   "id": "e87ca7c9-31fd-42db-ac7c-3017f43e42bb",
   "metadata": {},
   "outputs": [],
   "source": [
    "#How do you handle missing values in a DataFrame?\n",
    "df.dropna(inplace=True)\n",
    "df.fillna(value, inplace=True)\n",
    "#How can you remove duplicate rows in a DataFrame?\n",
    "df.drop_duplicates(inplace=True)\n"
   ]
  },
  {
   "cell_type": "code",
   "execution_count": 51,
   "id": "600fe3ef-ff40-4419-bec4-62232977b783",
   "metadata": {},
   "outputs": [],
   "source": [
    "#How do you group data in a DataFrame and compute aggregate statistics?\n",
    "#grouped_df = df.groupby('column_name').agg({'column_to_aggregate': 'mean'})\n",
    "\n",
    "#What is the difference between apply and map functions in pandas?\n",
    "\n",
    "#apply is used to apply a function along an axis (rows or columns) of the DataFrame.\n",
    "#map is used to apply a function element-wise on a Series.\n"
   ]
  },
  {
   "cell_type": "markdown",
   "id": "9a1de3c5-303a-4b5a-9457-749c63bf9dbb",
   "metadata": {},
   "source": [
    "Advanced Operations\n",
    "How do you merge two DataFrames?\n",
    "\n",
    "python\n",
    "Copy code\n",
    "\n",
    "merged_df = pd.merge(df1, df2, on='common_column')"
   ]
  },
  {
   "cell_type": "code",
   "execution_count": 52,
   "id": "405f1120-a1c4-498d-bebc-291610292a2a",
   "metadata": {},
   "outputs": [],
   "source": [
    "#What is a pivot table in pandas and how do you create one?\n",
    "#pivot_table = df.pivot_table(values='value_column', index='index_column', columns='column_column', aggfunc='mean')\n",
    "\n"
   ]
  },
  {
   "cell_type": "markdown",
   "id": "24a15742-389a-44d2-bd68-986e1deaa57d",
   "metadata": {},
   "source": [
    "Explain the concat function and how it differs from merge.\n",
    "\n",
    "concat is used to concatenate DataFrames along a particular axis (rows or columns).\n",
    "\n",
    "merge is used for SQL-style joins of DataFrames based on common columns or indices.\n"
   ]
  },
  {
   "cell_type": "markdown",
   "id": "e902f81a-f8c1-4e90-a24e-5eb700e079c0",
   "metadata": {},
   "source": [
    "How would you handle a large dataset that doesn't fit into memory?\n",
    "\n",
    "Use the chunksize parameter in read_csv to load the data in chunks.\n",
    "\n",
    "Use libraries like Dask that extend pandas functionalities for larger-than-memory computations."
   ]
  },
  {
   "cell_type": "markdown",
   "id": "2c11504e-406e-442c-a925-828824099500",
   "metadata": {},
   "source": [
    "How do you check for the data types of columns in a DataFrame?\n",
    "\n",
    "python\n",
    "Copy code\n",
    "\n",
    "df.dtypes\n",
    "\n",
    "What are some best practices when working with pandas?\n",
    "\n",
    "Understand the structure of your data.\n",
    "\n",
    "Avoid using loops for row-wise operations.\n",
    "\n",
    "Make use of the built-in functions and methods for efficient data manipulation.\n",
    "\n",
    "Clean and preprocess your data before analysis.\n"
   ]
  },
  {
   "cell_type": "code",
   "execution_count": null,
   "id": "c0849d06-6784-4367-a6b0-be4a10de6260",
   "metadata": {},
   "outputs": [],
   "source": []
  },
  {
   "cell_type": "code",
   "execution_count": null,
   "id": "73e96e3f-b102-49f1-a87d-26c368f7c7ac",
   "metadata": {},
   "outputs": [],
   "source": []
  }
 ],
 "metadata": {
  "kernelspec": {
   "display_name": "Python 3 (ipykernel)",
   "language": "python",
   "name": "python3"
  },
  "language_info": {
   "codemirror_mode": {
    "name": "ipython",
    "version": 3
   },
   "file_extension": ".py",
   "mimetype": "text/x-python",
   "name": "python",
   "nbconvert_exporter": "python",
   "pygments_lexer": "ipython3",
   "version": "3.12.3"
  }
 },
 "nbformat": 4,
 "nbformat_minor": 5
}
