{
 "cells": [
  {
   "cell_type": "markdown",
   "id": "9275cf9c-50d5-4e25-b098-9e96ffeba42c",
   "metadata": {},
   "source": [
    "#### Q. What is Lists?\n",
    "list of comma-separated values (items) between square brackets. Lists might contain items of different types, but usually the items all have the same type.\n",
    "lists can be indexed and sliced.\n",
    "Lists also support operations like concatenation.\n",
    "List items are ordered, changeable, and allow duplicate values.\n",
    "List items are indexed\n",
    "Lists in Python are mutable, unlike tuples. This means that once a list is created, you can modify its elements"
   ]
  },
  {
   "cell_type": "markdown",
   "id": "7a33ece4-91ba-41bd-a10c-082b818fa081",
   "metadata": {},
   "source": [
    "**Lists: Adding and changing elements**"
   ]
  },
  {
   "cell_type": "code",
   "execution_count": 11,
   "id": "d98aa820-180f-4c76-87a0-c32300e76e08",
   "metadata": {},
   "outputs": [
    {
     "data": {
      "text/plain": [
       "[32, 2, 3]"
      ]
     },
     "execution_count": 11,
     "metadata": {},
     "output_type": "execute_result"
    }
   ],
   "source": [
    "l1=[]\n",
    "#adding item in list\n",
    "l1.insert(0,1) #index,item\n",
    "l1.insert(1,2)\n",
    "l1.append(3)\n",
    "\n",
    "#changing elements in list\n",
    "l1[0]=32"
   ]
  },
  {
   "cell_type": "markdown",
   "id": "7382c58f-c72d-40bd-99be-03d65b20f87b",
   "metadata": {},
   "source": [
    "#### List Slicing\n",
    "List slicing in Python is a powerful feature that allows you to extract subsets of lists efficiently. By specifying start and end indices, you can create new lists containing only the elements you need."
   ]
  },
  {
   "cell_type": "code",
   "execution_count": 12,
   "id": "a3a7bd3d-cfd4-42eb-8dea-f2e230c96613",
   "metadata": {},
   "outputs": [
    {
     "name": "stdout",
     "output_type": "stream",
     "text": [
      "[2, 3, 4]\n"
     ]
    }
   ],
   "source": [
    "my_list = [1, 2, 3, 4, 5]\n",
    "sub_list = my_list[1:4]  # Get elements from index 1 to 3 (exclusive)\n",
    "print(sub_list)  # Output: [2, 3, 4]"
   ]
  },
  {
   "cell_type": "code",
   "execution_count": 13,
   "id": "fac6c4b4-c4d6-435c-9e04-acbf0f6caef8",
   "metadata": {},
   "outputs": [
    {
     "name": "stdout",
     "output_type": "stream",
     "text": [
      "[1, 2, 3]\n",
      "[3, 4, 5]\n"
     ]
    }
   ],
   "source": [
    "my_list = [1, 2, 3, 4, 5]\n",
    "sub_list = my_list[:3]  # Get elements from the beginning to index 2\n",
    "print(sub_list)  # Output: [1, 2, 3]\n",
    "\n",
    "sub_list = my_list[2:]  # Get elements from index 2 to the end\n",
    "print(sub_list)  # Output: [3, 4, 5]"
   ]
  },
  {
   "cell_type": "code",
   "execution_count": 14,
   "id": "cf575616-30b3-4328-a239-6f274eac9578",
   "metadata": {},
   "outputs": [
    {
     "name": "stdout",
     "output_type": "stream",
     "text": [
      "[1, 2, 3, 4]\n",
      "[3, 4, 5]\n"
     ]
    }
   ],
   "source": [
    "my_list = [1, 2, 3, 4, 5]\n",
    "sub_list = my_list[:-1]  # Get elements from the beginning to the second-to-last element\n",
    "print(sub_list)  # Output: [1, 2, 3, 4]\n",
    "\n",
    "sub_list = my_list[-3:]  # Get the last three elements\n",
    "print(sub_list)  # Output: [3, 4, 5]"
   ]
  },
  {
   "cell_type": "code",
   "execution_count": 16,
   "id": "3540c5b9-37e6-49bc-8dd6-3d53ec1a2bc9",
   "metadata": {},
   "outputs": [
    {
     "name": "stdout",
     "output_type": "stream",
     "text": [
      "[2, 4, 6]\n"
     ]
    }
   ],
   "source": [
    "my_list = [1, 2, 3, 4, 5, 6, 7, 8, 9]\n",
    "sub_list = my_list[1:7:2]  # Get elements from index 1 to 6 with a step of 2\n",
    "print(sub_list)  # Output: [2, 4, 6]"
   ]
  },
  {
   "cell_type": "markdown",
   "id": "1ee940c2-17b2-40cd-ad50-89308e528902",
   "metadata": {},
   "source": [
    "**Remove items or delete**"
   ]
  },
  {
   "cell_type": "code",
   "execution_count": 26,
   "id": "a5d18c56-0fa6-4fd2-b6e7-31b08afcd4e9",
   "metadata": {},
   "outputs": [],
   "source": [
    "my_list = [1, 2, 3, 4, 5, 6, 7, 8, 9]\n",
    "my_list.remove(3)\n",
    "my_list.pop\n",
    "my_list.pop(2)#index\n",
    "del my_list[0]\n",
    "my_list.clear()\n",
    "del my_list"
   ]
  },
  {
   "cell_type": "markdown",
   "id": "ee82de21-77d9-454d-9506-6d73e35e7dde",
   "metadata": {},
   "source": [
    "#### Tuples\n",
    "Tuples in Python are immutable sequences. once a tuple is created, you cannot change its values.\n",
    "\n",
    "Tuples are immutable.A tuple is a collection which is ordered and unchangeable.and allows duplicate values.\n",
    "\n",
    "Tuple Packing and Unpacking: You can create a tuple by just placing comma-separated values, without parentheses. This is called tuple packing. Similarly, you can assign the elements of a tuple to variables, which is called tuple unpacking.\n",
    "\n",
    "my_tuple = 1, 2, 3  # Tuple packing\n",
    "a, b, c = my_tuple  # Tuple unpacking\n",
    "\n",
    "Use Case: Tuples are often used when you want to store a fixed collection of items, such as coordinates, or when you want to ensure that the data remains unchanged throughout the program execution. They are also commonly used for functions that return multiple values\n",
    "\n",
    "Size and Memory: Tuples are generally more memory efficient than lists, especially when dealing with a small number of elements. This is because tuples are immutable, so Python doesn't need to allocate extra memory to accommodate potential changes in size."
   ]
  },
  {
   "cell_type": "code",
   "execution_count": 27,
   "id": "e92ff4e0-0eb1-440f-a911-a72e359a97b0",
   "metadata": {},
   "outputs": [
    {
     "name": "stdout",
     "output_type": "stream",
     "text": [
      "2\n",
      "3\n"
     ]
    }
   ],
   "source": [
    "my_tuple = (1, 2, 2, 3, 4)\n",
    "print(my_tuple.count(2))  # Output: 2\n",
    "print(my_tuple.index(3))  # Output: 3"
   ]
  },
  {
   "cell_type": "markdown",
   "id": "4d1c485d-340d-4871-9d32-adbcf1806408",
   "metadata": {},
   "source": [
    "#### Q. Dictionary\n",
    "In Python, a dictionary is a built-in data type that allows you to store collections of key-value pairs. Here are the key features and characteristics of dictionaries in Python:\n",
    "\n",
    "**Key-Value Pairs**: Each item in a dictionary is a pair consisting of a key and a value. The key is used to access the corresponding value.\n",
    "\n",
    "**Unordered:** Dictionaries in Python are unordered collections. Prior to Python 3.7, dictionaries did not maintain any order. However, starting with Python 3.7, dictionaries maintain the insertion order of keys.\n",
    "\n",
    "**Mutable:** Dictionaries are mutable, meaning you can change them after they are created. You can add, remove, or modify key-value pairs.\n",
    "\n",
    "**Dynamic:** Dictionaries can grow and shrink as needed. You can add new key-value pairs or delete existing ones.\n",
    "\n",
    "**Keys:** Keys in a dictionary must be unique and immutable types, such as strings, numbers, or tuples. You cannot use lists or other dictionaries as keys.\n",
    "\n",
    "**Values:** Values in a dictionary can be of any type and can be duplicated. They can be numbers, strings, lists, or even other dictionaries.\n",
    "\n"
   ]
  },
  {
   "cell_type": "code",
   "execution_count": 34,
   "id": "bbbc843e-b1ed-4813-8e11-e54a7024b4b4",
   "metadata": {},
   "outputs": [
    {
     "name": "stdout",
     "output_type": "stream",
     "text": [
      "not Present\n",
      "Key = Mango and Value = 23\n",
      "Key = Grapes and Value = 12\n",
      "Key = Orange and Value = 43\n",
      "Key = Mango \n",
      "Key = Grapes \n",
      "Key = Orange \n",
      "value = 23 \n",
      "value = 12 \n",
      "value = 43 \n"
     ]
    },
    {
     "data": {
      "text/plain": [
       "dict_keys(['Mango', 'Grapes', 'Orange'])"
      ]
     },
     "execution_count": 34,
     "metadata": {},
     "output_type": "execute_result"
    }
   ],
   "source": [
    "fruits = {\n",
    "    'Apple' : 3,\n",
    "    'Mango' : 7,\n",
    "    'Banana': 6\n",
    "}\n",
    "#Add item in dict\n",
    "fruits['Grapes']= 12\n",
    "fruits.update({'Orange':21})\n",
    "\n",
    "#Access dict items\n",
    "fruits['Mango']\n",
    "\n",
    "#Modifying a Dictionary\n",
    "fruits.update({'Orange':43})\n",
    "fruits['Mango']=23\n",
    "\n",
    "#Removing Elements from a Dictionary\n",
    "del fruits['Banana']\n",
    "fruits.pop('Apple')\n",
    "\n",
    "#Checking if a Key Exists:\n",
    "if 'Apple' in fruits:\n",
    "    print(\"Present\")\n",
    "else:\n",
    "    print(\"not Present\")\n",
    "\n",
    "\n",
    "#Iterating Through a Dictionary:\n",
    "\n",
    "for key,value in fruits.items():\n",
    "    print(\"Key = {} and Value = {}\".format(key,value))\n",
    "\n",
    "\n",
    "\n",
    "for key in fruits.keys():\n",
    "    print(\"Key = {} \".format(key))\n",
    "\n",
    "for val in fruits.values():\n",
    "    print(\"value = {} \".format(val))\n",
    "\n"
   ]
  },
  {
   "cell_type": "code",
   "execution_count": 47,
   "id": "6b88f7d0-67f5-4719-963e-b7a0fa71bba6",
   "metadata": {},
   "outputs": [
    {
     "name": "stdout",
     "output_type": "stream",
     "text": [
      "23\n"
     ]
    }
   ],
   "source": [
    "#Dict funstions\n",
    "fruits.keys()\n",
    "fruits.values()\n",
    "fruits.items()\n",
    "print(fruits.get('Mango'))\n"
   ]
  },
  {
   "cell_type": "code",
   "execution_count": 54,
   "id": "9885cfa1-ad76-46db-8e42-af7c23392d1e",
   "metadata": {},
   "outputs": [
    {
     "data": {
      "text/plain": [
       "16"
      ]
     },
     "execution_count": 54,
     "metadata": {},
     "output_type": "execute_result"
    }
   ],
   "source": [
    "#list of Dict\n",
    "\n",
    "l1=[{'a':12,'b':13,'c':14},{'d':15,'e':16,'f':18}]\n",
    "l1.append({'g':19,'h':20})\n",
    "l1[1]['e']\n"
   ]
  },
  {
   "cell_type": "code",
   "execution_count": 58,
   "id": "e8ca4b79-27d8-43cf-9e9a-9bdde7950966",
   "metadata": {},
   "outputs": [
    {
     "data": {
      "text/plain": [
       "19"
      ]
     },
     "execution_count": 58,
     "metadata": {},
     "output_type": "execute_result"
    }
   ],
   "source": [
    "#dict of lists\n",
    "data={\n",
    "    'a' : [12,13,14],\n",
    "    'b' : [15,16,17],\n",
    "    'c' : [18,19,20]\n",
    "}\n",
    "\n",
    "data.update({'d':[21,22,23]})\n",
    "data['c'][1]\n",
    "\n"
   ]
  },
  {
   "cell_type": "code",
   "execution_count": 78,
   "id": "d44e7d80-61e0-450f-89a8-5e2da7b530d9",
   "metadata": {},
   "outputs": [],
   "source": [
    "#dict of dict\n",
    "data = {\n",
    "    'Stu_01':{\n",
    "        'Name':'Azhar',\n",
    "        'Age' : 23       \n",
    "             },\n",
    "    'Stu_02':{\n",
    "        'Name':'hussain',\n",
    "        'Age' : 24\n",
    "    }\n",
    "}\n",
    "data['Stu_02']['Age']\n",
    "\n",
    "data['Stu_02'].update({'Email': 'azhar@gmail.com'})\n"
   ]
  },
  {
   "cell_type": "markdown",
   "id": "c911e0f6-3381-4846-bbb7-ba4d828c46ad",
   "metadata": {},
   "source": [
    "#### Sets"
   ]
  },
  {
   "cell_type": "markdown",
   "id": "d6d6d090-295a-4e38-9fab-e84084377898",
   "metadata": {},
   "source": [
    "A set is an unordered collection of unique items. Sets are defined using curly braces {} or the set() function.\n",
    "\n",
    "Unordered: Elements do not have a specific order.\n",
    "\n",
    "Unique: Duplicate elements are not allowed.\n",
    "\n",
    "Mutable: You can add or remove elements.\n",
    "\n"
   ]
  },
  {
   "cell_type": "code",
   "execution_count": 80,
   "id": "0003d043-c268-4bf8-9a79-9743fcb742a0",
   "metadata": {},
   "outputs": [
    {
     "data": {
      "text/plain": [
       "3"
      ]
     },
     "execution_count": 80,
     "metadata": {},
     "output_type": "execute_result"
    }
   ],
   "source": [
    "my_set = {1, 2, 3}\n",
    "my_set = set([1, 2, 3])\n",
    "my_set.add(4)\n",
    "my_set.remove(2)  # Raises KeyError if element not found\n",
    "my_set.discard(2)  # Does not raise an error if element not found\n",
    "len(my_set)\n"
   ]
  },
  {
   "cell_type": "code",
   "execution_count": 82,
   "id": "3daf0281-b062-49f4-bf58-09b09cfa4683",
   "metadata": {},
   "outputs": [],
   "source": [
    "#What is the difference between union, intersection, and difference in sets?\n",
    "\n",
    "#Union: Combines elements from both sets.\n",
    "\n",
    "set1 = {1, 2, 3}\n",
    "set2 = {3, 4, 5}\n",
    "union_set = set1 | set2  # {1, 2, 3, 4, 5}\n",
    "union_set = set1.union(set2)  # {1, 2, 3, 4, 5}\n",
    "\n",
    "#Intersection: Elements common to both sets.\n",
    "intersection_set = set1 & set2  # {3}\n",
    "intersection_set = set1.intersection(set2)  # {3}\n",
    "\n",
    "#Difference: Elements in one set but not the other.\n",
    "difference_set = set1 - set2  # {1, 2}\n",
    "difference_set = set1.difference(set2)  # {1, 2}\n",
    "\n",
    "#Symmetric difference returns elements in either set, but not in both.\n",
    "\n",
    "symmetric_difference_set = set1 ^ set2  # {1, 2, 4, 5}\n",
    "symmetric_difference_set = set1.symmetric_difference(set2)  # {1, 2, 4, 5}\n",
    "\n"
   ]
  },
  {
   "cell_type": "code",
   "execution_count": 83,
   "id": "9d69e4ad-541e-434e-94fe-c89bf10e265a",
   "metadata": {},
   "outputs": [],
   "source": [
    "#How do you remove duplicates from a list using a set?\n",
    "\n",
    "my_list = [1, 2, 2, 3, 4, 4, 5]\n",
    "unique_list = list(set(my_list))  # [1, 2, 3, 4, 5]\n",
    "\n",
    "#How can you use sets to find common elements between two lists?\n",
    "\n",
    "list1 = [1, 2, 3, 4]\n",
    "list2 = [3, 4, 5, 6]\n",
    "common_elements = list(set(list1) & set(list2))  # [3, 4]\n",
    "\n",
    "#How do you check if a set is a subset or superset of another set?\n",
    "\n",
    "set1 = {1, 2, 3}\n",
    "set2 = {1, 2, 3, 4, 5}\n",
    "is_subset = set1 <= set2  # True\n",
    "is_superset = set2 >= set1  # True\n",
    "\n",
    "#What are frozen sets in Python?\n",
    "\n",
    "#A frozen set is an immutable version of a set. Once created, you cannot modify its elements.\n",
    "frozen_set = frozenset([1, 2, 3])"
   ]
  },
  {
   "cell_type": "code",
   "execution_count": null,
   "id": "dde7fd0e-4c04-410c-aa3c-17c64701b80c",
   "metadata": {},
   "outputs": [],
   "source": []
  }
 ],
 "metadata": {
  "kernelspec": {
   "display_name": "Python 3 (ipykernel)",
   "language": "python",
   "name": "python3"
  },
  "language_info": {
   "codemirror_mode": {
    "name": "ipython",
    "version": 3
   },
   "file_extension": ".py",
   "mimetype": "text/x-python",
   "name": "python",
   "nbconvert_exporter": "python",
   "pygments_lexer": "ipython3",
   "version": "3.12.3"
  }
 },
 "nbformat": 4,
 "nbformat_minor": 5
}
