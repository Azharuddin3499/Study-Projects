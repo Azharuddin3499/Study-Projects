{
 "cells": [
  {
   "cell_type": "markdown",
   "id": "eb7cb526-e033-4e3a-b0b2-6033191b52d6",
   "metadata": {},
   "source": [
    "#### Q: Print command?"
   ]
  },
  {
   "cell_type": "code",
   "execution_count": 2,
   "id": "7e110932-97d3-4361-8e19-d165cb16882d",
   "metadata": {},
   "outputs": [
    {
     "name": "stdout",
     "output_type": "stream",
     "text": [
      "Azharuddin\n"
     ]
    }
   ],
   "source": [
    "print(\"Azharuddin\")"
   ]
  },
  {
   "cell_type": "markdown",
   "id": "de759f9b-3487-42b7-bffe-3224c8ca9c61",
   "metadata": {},
   "source": [
    "Using f-strings (formatted string literals)\n",
    "Python 3.6 and later supports f-strings for easier string formatting:"
   ]
  },
  {
   "cell_type": "code",
   "execution_count": 7,
   "id": "f076ef78-c959-41e1-abdc-0f20c6c6a4e7",
   "metadata": {},
   "outputs": [
    {
     "name": "stdout",
     "output_type": "stream",
     "text": [
      "Name is Azhar and age is 24\n"
     ]
    }
   ],
   "source": [
    "name=\"Azhar\"\n",
    "age=24\n",
    "print(f\"Name is {name} and age is {age}\")"
   ]
  },
  {
   "cell_type": "markdown",
   "id": "e3933412-f9db-4c3e-a539-e0c08c36ab48",
   "metadata": {},
   "source": [
    "Using the format method"
   ]
  },
  {
   "cell_type": "code",
   "execution_count": 8,
   "id": "2e7a8b98-f033-49bb-a55e-6e555afad6ba",
   "metadata": {},
   "outputs": [
    {
     "name": "stdout",
     "output_type": "stream",
     "text": [
      "Name = Azhar , age = 24\n"
     ]
    }
   ],
   "source": [
    "name=\"Azhar\"\n",
    "age=24\n",
    "print(\"Name = {} , age = {}\".format(name,age))"
   ]
  },
  {
   "cell_type": "markdown",
   "id": "2174adbf-037a-463e-8c6d-66bb5d1a35aa",
   "metadata": {},
   "source": [
    "#### Q: What is String in python?\n",
    "A string is a sequence of characters enclosed in quotes. Strings are one of the most commonly used data types in Python."
   ]
  },
  {
   "cell_type": "code",
   "execution_count": 12,
   "id": "0dd3b114-afa5-4e0f-a96b-7fa289a8ac26",
   "metadata": {},
   "outputs": [
    {
     "name": "stdout",
     "output_type": "stream",
     "text": [
      "Hello\n",
      "World\n",
      "Hello\n",
      "World!\n",
      "World!\n"
     ]
    }
   ],
   "source": [
    "#Slicing Strings\n",
    "#You can slice strings to get a substring.\n",
    "string = \"Hello, World!\"\n",
    "print(string[0:5])  # Outputs: Hello\n",
    "print(string[7:12])  # Outputs: World\n",
    "print(string[:5])  # Outputs: Hello\n",
    "print(string[7:])  # Outputs: World!\n",
    "print(string[-6:])  # Outputs: World!\n"
   ]
  },
  {
   "cell_type": "code",
   "execution_count": 11,
   "id": "5a6e879a-841d-46e6-9a54-6f9035359819",
   "metadata": {},
   "outputs": [
    {
     "name": "stdout",
     "output_type": "stream",
     "text": [
      "My name is Alice. I am 30 years old and I work as a developer.\n",
      "MY NAME IS ALICE. I AM 30 YEARS OLD AND I WORK AS A DEVELOPER.\n",
      "['My name is Alice', 'I am 30 years old and I work as a developer.']\n",
      "My name is Alice | I am 30 years old and I work as a developer.\n"
     ]
    }
   ],
   "source": [
    "name = \"Alice\"\n",
    "age = 30\n",
    "occupation = \"developer\"\n",
    "\n",
    "intro = f\"My name is {name}. I am {age} years old and I work as a {occupation}.\"\n",
    "print(intro)\n",
    "\n",
    "upper_intro = intro.upper()\n",
    "print(upper_intro)\n",
    "\n",
    "split_intro = intro.split(\". \")#Return list of splited string\n",
    "print(split_intro)\n",
    "\n",
    "joined_intro = \" | \".join(split_intro)\n",
    "print(joined_intro)"
   ]
  },
  {
   "cell_type": "markdown",
   "id": "1adba02a-fca6-4240-8dbc-780508344b72",
   "metadata": {},
   "source": [
    "**Raw Strings**\n",
    "\n",
    "Raw strings treat backslashes as literal characters and are useful for regular expressions and Windows file paths. You create a raw string by prefixing it with an r. \n",
    "\n"
   ]
  },
  {
   "cell_type": "code",
   "execution_count": 13,
   "id": "169fa69b-1660-4829-a336-8d653f6b6c1f",
   "metadata": {},
   "outputs": [
    {
     "name": "stdout",
     "output_type": "stream",
     "text": [
      "C:\\Users\\Name\n"
     ]
    }
   ],
   "source": [
    "raw_string = r\"C:\\Users\\Name\"\n",
    "print(raw_string)  # Outputs: C:\\Users\\Name"
   ]
  },
  {
   "cell_type": "markdown",
   "id": "d9a2ef69-d40e-49cc-963a-c9852390b185",
   "metadata": {},
   "source": [
    "#### Q. What is Variables?\n",
    "In Python, you can use variables to store numeric values such as integers, floating-point numbers, and complex numbers."
   ]
  },
  {
   "cell_type": "code",
   "execution_count": 14,
   "id": "957e535c-9ab5-444c-b2e6-f1694b0f2e0f",
   "metadata": {},
   "outputs": [
    {
     "name": "stdout",
     "output_type": "stream",
     "text": [
      "Volume: 33.0\n",
      "Sum of complex numbers: (4+6j)\n",
      "Result: 388.875\n"
     ]
    }
   ],
   "source": [
    "# Define variables\n",
    "length = 5.5\n",
    "width = 2.0\n",
    "height = 3\n",
    "\n",
    "# Calculate volume of a rectangular prism\n",
    "volume = length * width * height\n",
    "print(f\"Volume: {volume}\")  # Outputs: Volume: 33.0\n",
    "\n",
    "# Define a complex number and perform arithmetic\n",
    "complex1 = 1 + 2j\n",
    "complex2 = 3 + 4j\n",
    "complex_sum = complex1 + complex2\n",
    "print(f\"Sum of complex numbers: {complex_sum}\")  # Outputs: Sum of complex numbers: (4+6j)\n",
    "\n",
    "# Using arithmetic operations in a more complex expression\n",
    "result = (length + width) ** height - volume\n",
    "print(f\"Result: {result}\")  # Outputs: Result: -10.75\n"
   ]
  },
  {
   "cell_type": "code",
   "execution_count": 15,
   "id": "ffa910bc-a4c5-4441-9bec-9b58da0e26dd",
   "metadata": {},
   "outputs": [
    {
     "name": "stdout",
     "output_type": "stream",
     "text": [
      "10\n",
      "3.14\n",
      "8\n"
     ]
    }
   ],
   "source": [
    "#Funtions to work with Numbers\n",
    "\n",
    "#Absolute Value\n",
    "abs_value = abs(-10)\n",
    "print(abs_value)  # Outputs: 10\n",
    "\n",
    "\n",
    "#Rounding\n",
    "rounded_value = round(3.14159, 2)\n",
    "print(rounded_value)  # Outputs: 3.14\n",
    "\n",
    "\n",
    "#Power and Exponentiation\n",
    "power = pow(2, 3)\n",
    "print(power)  # Outputs: 8\n"
   ]
  },
  {
   "cell_type": "markdown",
   "id": "579033b0-a8a6-405c-9fbc-c30e2412d5fe",
   "metadata": {},
   "source": [
    "#### Q. Math expressions\n",
    "Familiar Operators vs Unfamiliar Operators\n",
    "\n",
    "Familiar Operators\n",
    "These operators are commonly used in everyday programming tasks.\n",
    "e.g (+ - * / // % **) and assignment = operators.\n",
    "\n",
    "UnFamiliar Operators\n",
    "These \"unfamiliar\" operators provide powerful ways to manipulate and evaluate data in Python. They are especially useful in more advanced programming scenarios, such as bitwise manipulation, efficient mathematical computations, and checking for identity and membership."
   ]
  },
  {
   "cell_type": "markdown",
   "id": "3389fa15-ea7e-410b-b3d0-81fb56a2e862",
   "metadata": {},
   "source": [
    "(+,-,*,/)\n",
    "\n",
    "**Floor Division (//)** \n",
    "Divides the first number by the second and rounds down to the nearest whole number.\n"
   ]
  },
  {
   "cell_type": "code",
   "execution_count": 16,
   "id": "0a7c082b-320f-413c-956a-c1052e733afb",
   "metadata": {},
   "outputs": [],
   "source": [
    "a = 5\n",
    "b = 3\n",
    "result = a // b  # result is 1"
   ]
  },
  {
   "cell_type": "markdown",
   "id": "7816fa04-83a4-4a76-8993-c13ff770d156",
   "metadata": {},
   "source": [
    "**Modulus (%)** Returns the remainder of the division of the first number by the second.\n",
    "\n"
   ]
  },
  {
   "cell_type": "code",
   "execution_count": 17,
   "id": "f70778cc-257a-46fa-9698-1f6ae89b7c96",
   "metadata": {},
   "outputs": [],
   "source": [
    "a = 5\n",
    "b = 3\n",
    "result = a % b  # result is 2"
   ]
  },
  {
   "cell_type": "markdown",
   "id": "91eb601a-db48-4249-85a3-7f588f3dc6d1",
   "metadata": {},
   "source": [
    "**Exponentiation:** Raises the first number to the power of the second."
   ]
  },
  {
   "cell_type": "code",
   "execution_count": 18,
   "id": "5fcca82d-7ba3-42a0-84af-175baa559e1b",
   "metadata": {},
   "outputs": [],
   "source": [
    "a = 5\n",
    "b = 3\n",
    "result = a ** b  # result is 125"
   ]
  },
  {
   "cell_type": "markdown",
   "id": "b8b6f838-3586-479b-9557-93da15ec2eac",
   "metadata": {},
   "source": [
    "Assignment Operators\n",
    "Assignment (=): Assigns a value to a variable.\n",
    "\n",
    "python\n",
    "Copy code\n",
    "a = 5\n",
    "Addition Assignment (+=): Adds the right operand to the left operand and assigns the result to the left operand.\n",
    "\n",
    "python\n",
    "Copy code\n",
    "a = 5\n",
    "a += 3  # a is now 8\n",
    "Subtraction Assignment (-=): Subtracts the right operand from the left operand and assigns the result to the left operand.\n",
    "\n",
    "python\n",
    "Copy code\n",
    "a = 5\n",
    "a -= 3  # a is now 2\n",
    "Multiplication Assignment (*=): Multiplies the left operand by the right operand and assigns the result to the left operand.\n",
    "\n",
    "python\n",
    "Copy code\n",
    "a = 5\n",
    "a *= 3  # a is now 15\n",
    "Division Assignment (/=): Divides the left operand by the right operand and assigns the result to the left operand.\n",
    "\n",
    "python\n",
    "Copy code\n",
    "a = 5\n",
    "a /= 3  # a is now 1.6666666666666667\n",
    "Floor Division Assignment (//=): Floor divides the left operand by the right operand and assigns the result to the left operand.\n",
    "\n",
    "python\n",
    "Copy code\n",
    "a = 5\n",
    "a //= 3  # a is now 1\n",
    "Modulus Assignment (%=): Takes the modulus using the left and right operands and assigns the result to the left operand.\n",
    "\n",
    "python\n",
    "Copy code\n",
    "a = 5\n",
    "a %= 3  # a is now 2\n",
    "Exponentiation Assignment (**=): Raises the left operand to the power of the right operand and assigns the result to the left operand.\n",
    "\n",
    "python\n",
    "Copy code\n",
    "a = 5\n",
    "a **= 3  # a is now 125\n"
   ]
  },
  {
   "cell_type": "code",
   "execution_count": 22,
   "id": "0dbcba5c-35ef-45c6-8e5d-3cb04db558e6",
   "metadata": {},
   "outputs": [],
   "source": [
    "#Assignment Operator(=)\n",
    "\n",
    "a=23\n",
    "a+=3 # a = a + 23 \n",
    "# a = 26 "
   ]
  },
  {
   "cell_type": "markdown",
   "id": "72f4b4c5-6cc9-4318-836b-3995d19cc045",
   "metadata": {},
   "source": [
    "**\"unfamiliar\" operators provide powerful ways to manipulate and evaluate data in Python. They are especially useful in more advanced programming scenarios, such as bitwise manipulation, efficient mathematical computations, and checking for identity and membership.**"
   ]
  },
  {
   "cell_type": "code",
   "execution_count": null,
   "id": "893b9281-0d0e-48a5-9343-bfe399c58851",
   "metadata": {},
   "outputs": [],
   "source": [
    "a = 10\n",
    "b = 20\n",
    "c = [10, 20, 30]\n",
    "\n",
    "# Bitwise operators\n",
    "print(a & b)  # Outputs: 0 (bitwise AND)\n",
    "print(a | b)  # Outputs: 30 (bitwise OR)\n",
    "print(a ^ b)  # Outputs: 30 (bitwise XOR)\n",
    "print(~a)     # Outputs: -11 (bitwise NOT)\n",
    "print(a << 2) # Outputs: 40 (left shift)\n",
    "print(a >> 2) # Outputs: 2 (right shift)\n",
    "\n",
    "# Identity operators\n",
    "print(a is b)       # Outputs: False\n",
    "print(a is not b)   # Outputs: True\n",
    "\n",
    "# Membership operators\n",
    "print(10 in c)      # Outputs: True\n",
    "print(40 not in c)  # Outputs: True\n"
   ]
  },
  {
   "cell_type": "markdown",
   "id": "50176f18-68e0-4878-beeb-88bfb3f8e055",
   "metadata": {},
   "source": [
    "#### Q. What is legal vs illegal Variables?\n",
    "In Python, variable names must follow certain rules to be considered legal. Here’s an overview of what makes a variable name legal or illegal:\n",
    "\n",
    "Legal Variable Names\n",
    "Must start with a letter or an underscore ( _ ):\n",
    "\n",
    "x = 5\n",
    "_variable = 10\n",
    "Can only contain letters, numbers, and underscores (_):\n",
    "\n",
    "variable1 = \"Hello\"\n",
    "var_name = 20\n",
    "temp_value = 3.14\n",
    "Are case-sensitive:\n",
    "\n",
    "age = 25\n",
    "Age = 30\n",
    "Here, age and Age are different variables.\n",
    "Should not be a reserved keyword: Keywords in Python have specific meanings and cannot be used as variable names (e.g., for, if, while, etc.).\n",
    "\n",
    "Illegal Variable Names\n",
    "Starting with a number:\n",
    "\n",
    "1variable = 5 (illegal)\n",
    "Containing special characters other than underscore:\n",
    "\n",
    "var-name = \"Hello\" (illegal)\n",
    "temp$value = 20 (illegal)\n",
    "Using reserved keywords:\n",
    "\n",
    "if = 10 (illegal because if is a reserved keyword)"
   ]
  },
  {
   "cell_type": "markdown",
   "id": "12b5844d-dcd9-4e9c-a0d7-e27c47b7f828",
   "metadata": {},
   "source": [
    "**Checking Variable Name Validity**\n",
    "If you're unsure whether a variable name is legal, you can use the isidentifier() method, which checks if a string is a valid identifier according to Python's rules:"
   ]
  },
  {
   "cell_type": "code",
   "execution_count": 23,
   "id": "65f106f0-f43f-4038-b066-601d5d4f8101",
   "metadata": {},
   "outputs": [
    {
     "name": "stdout",
     "output_type": "stream",
     "text": [
      "True\n",
      "False\n",
      "True\n",
      "False\n",
      "True\n"
     ]
    }
   ],
   "source": [
    "print(\"variable\".isidentifier())  # Outputs: True\n",
    "print(\"1variable\".isidentifier())  # Outputs: False\n",
    "print(\"var_name\".isidentifier())  # Outputs: True\n",
    "print(\"var-name\".isidentifier())  # Outputs: False\n",
    "print(\"for\".isidentifier())  # Outputs: True (but it's a keyword, so still not usable as a variable name)"
   ]
  },
  {
   "cell_type": "markdown",
   "id": "cceddd03-e548-432c-9da6-4247f30da7e1",
   "metadata": {},
   "source": [
    "#### Math expressions: Eliminating ambiguity\n",
    "In Python, mathematical expressions are evaluated according to the rules of precedence and associativity. However, when expressions involve multiple operators and operands, there can be ambiguity about the order of evaluation.\n",
    "\n",
    "you can eliminate ambiguity in mathematical expressions by using parentheses to specify the desired order of evaluation. This practice improves code clarity, control, and helps prevent potential bugs."
   ]
  },
  {
   "cell_type": "code",
   "execution_count": 28,
   "id": "b4ab4d10-f01f-4027-b1ef-7fd4fab646ba",
   "metadata": {},
   "outputs": [
    {
     "name": "stdout",
     "output_type": "stream",
     "text": [
      "17\n",
      "25\n"
     ]
    }
   ],
   "source": [
    "result = 5 * 3 + 2\n",
    "print(result)\n",
    "\n",
    "result2 = 5 * (3 + 2)\n",
    "print(result2)"
   ]
  },
  {
   "cell_type": "markdown",
   "id": "58acc1ba-1bf8-4284-9fc3-2d8765a89dc7",
   "metadata": {},
   "source": [
    "#### Q.What is Concatenating text strings?\n",
    "Concatenating text strings in Python involves combining multiple strings into a single string. This can be achieved using the + operator or the str.join() method."
   ]
  },
  {
   "cell_type": "code",
   "execution_count": 29,
   "id": "d9185be0-c604-413d-8b69-3c250d0390e2",
   "metadata": {},
   "outputs": [
    {
     "name": "stdout",
     "output_type": "stream",
     "text": [
      "Hello world\n",
      "Hello world\n"
     ]
    }
   ],
   "source": [
    "str1 = \"Hello\"\n",
    "str2 = \"world\"\n",
    "result = str1 + \" \" + str2\n",
    "print(result)  # Output: Hello world\n",
    "\n",
    "\n",
    "str1 = \"Hello\"\n",
    "str2 = \"world\"\n",
    "result = \" \".join([str1, str2])\n",
    "print(result)  # Output: Hello world\n"
   ]
  },
  {
   "cell_type": "markdown",
   "id": "e9c990f3-7551-4a62-b749-ea37711b2cea",
   "metadata": {},
   "source": [
    "### Q. what is Comparison operators?\n",
    "Comparison operators in Python are used to compare two values. They return a Boolean value (True or False) based on the comparison result.\n",
    "Comparison operators are often used in conditional statements (if, elif, else) and loops (while, for) to control the flow of a program.\n"
   ]
  },
  {
   "cell_type": "code",
   "execution_count": 30,
   "id": "6afa1e76-432d-4599-b03d-2ce620bb9c61",
   "metadata": {},
   "outputs": [
    {
     "name": "stdout",
     "output_type": "stream",
     "text": [
      "False\n",
      "True\n",
      "False\n",
      "True\n",
      "False\n",
      "True\n"
     ]
    }
   ],
   "source": [
    "x = 5\n",
    "y = 10\n",
    "\n",
    "print(x == y)  # Outputs: False\n",
    "print(x != y)  # Outputs: True\n",
    "print(x > y)   # Outputs: False\n",
    "print(x < y)   # Outputs: True\n",
    "print(x >= y)  # Outputs: False\n",
    "print(x <= y)  # Outputs: True"
   ]
  }
 ],
 "metadata": {
  "kernelspec": {
   "display_name": "Python 3 (ipykernel)",
   "language": "python",
   "name": "python3"
  },
  "language_info": {
   "codemirror_mode": {
    "name": "ipython",
    "version": 3
   },
   "file_extension": ".py",
   "mimetype": "text/x-python",
   "name": "python",
   "nbconvert_exporter": "python",
   "pygments_lexer": "ipython3",
   "version": "3.12.3"
  }
 },
 "nbformat": 4,
 "nbformat_minor": 5
}
